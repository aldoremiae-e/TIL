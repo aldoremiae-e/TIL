{
 "cells": [
  {
   "cell_type": "code",
   "execution_count": 6,
   "id": "e34a1239",
   "metadata": {},
   "outputs": [
    {
     "data": {
      "text/plain": [
       "True"
      ]
     },
     "execution_count": 6,
     "metadata": {},
     "output_type": "execute_result"
    }
   ],
   "source": [
    "issubclass(bool, int)"
   ]
  },
  {
   "cell_type": "code",
   "execution_count": 7,
   "id": "fbed6ccc",
   "metadata": {},
   "outputs": [
    {
     "name": "stdout",
     "output_type": "stream",
     "text": [
      "['김현기']\n"
     ]
    }
   ],
   "source": [
    "a = {'name':'김미애', 'age':26}\n",
    "b = []\n",
    "b.append('김현기')\n",
    "print(b)b"
   ]
  },
  {
   "cell_type": "code",
   "execution_count": 23,
   "id": "79ac5eff",
   "metadata": {},
   "outputs": [
    {
     "data": {
      "text/plain": [
       "'Heidi Thornton'"
      ]
     },
     "execution_count": 23,
     "metadata": {},
     "output_type": "execute_result"
    }
   ],
   "source": [
    "from faker import Faker\n",
    "fake = Faker()\n",
    "fake.name()"
   ]
  },
  {
   "cell_type": "code",
   "execution_count": 11,
   "id": "e2071e58",
   "metadata": {},
   "outputs": [
    {
     "data": {
      "text/plain": [
       "'김도윤'"
      ]
     },
     "execution_count": 11,
     "metadata": {},
     "output_type": "execute_result"
    }
   ],
   "source": [
    "fake_ko = Faker('ko_KR')\n",
    "fake_ko.name()"
   ]
  },
  {
   "cell_type": "code",
   "execution_count": 19,
   "id": "3fff8959",
   "metadata": {
    "scrolled": true
   },
   "outputs": [
    {
     "ename": "TypeError",
     "evalue": "__init__() missing 1 required positional argument: 'name'",
     "output_type": "error",
     "traceback": [
      "\u001b[1;31m---------------------------------------------------------------------------\u001b[0m",
      "\u001b[1;31mTypeError\u001b[0m                                 Traceback (most recent call last)",
      "Input \u001b[1;32mIn [19]\u001b[0m, in \u001b[0;36m<module>\u001b[1;34m\u001b[0m\n\u001b[0;32m      2\u001b[0m     \u001b[38;5;28;01mdef\u001b[39;00m \u001b[38;5;21m__init__\u001b[39m(\u001b[38;5;28mself\u001b[39m,name):\n\u001b[0;32m      3\u001b[0m         \u001b[38;5;28;01mpass\u001b[39;00m\n\u001b[1;32m----> 5\u001b[0m my_fake \u001b[38;5;241m=\u001b[39m \u001b[43mFaker\u001b[49m\u001b[43m(\u001b[49m\u001b[43m)\u001b[49m\n\u001b[0;32m      6\u001b[0m my_fake\u001b[38;5;241m.\u001b[39mname\n",
      "\u001b[1;31mTypeError\u001b[0m: __init__() missing 1 required positional argument: 'name'"
     ]
    }
   ],
   "source": [
    "class Faker():\n",
    "    def __init__(self,name):\n",
    "        pass\n",
    "        \n",
    "my_fake = Faker()\n",
    "my_fake.name"
   ]
  },
  {
   "cell_type": "code",
   "execution_count": 30,
   "id": "24b3ea36",
   "metadata": {},
   "outputs": [
    {
     "name": "stdout",
     "output_type": "stream",
     "text": [
      "이도윤\n",
      "이지후\n"
     ]
    }
   ],
   "source": [
    "import random\n",
    "\n",
    "#random.random()\n",
    "#random.random()\n",
    "\n",
    "random.seed(7777) # 동일한 순서로 난수를 발생시킬 수 있음\n",
    "random.random()\n",
    "\n",
    "fake_ko = Faker('ko_KR')\n",
    "Faker.seed(4321)\n",
    "\n",
    "print(fake_ko.name())\n",
    "\n",
    "fake2 = Faker('ko_KR')\n",
    "print(fake2.name())"
   ]
  },
  {
   "cell_type": "code",
   "execution_count": 34,
   "id": "a8118bcc",
   "metadata": {},
   "outputs": [
    {
     "name": "stdout",
     "output_type": "stream",
     "text": [
      "이도윤\n",
      "고상훈\n"
     ]
    }
   ],
   "source": [
    "fake_ko.seed_instance(4321)\n",
    "\n",
    "print(fake_ko.name())\n",
    "print(fake2.name())"
   ]
  },
  {
   "cell_type": "code",
   "execution_count": 73,
   "id": "282a20cb",
   "metadata": {},
   "outputs": [],
   "source": [
    "class Point:\n",
    "    def __init__(self,x,y):\n",
    "        self.x = x\n",
    "        self.y = y"
   ]
  },
  {
   "cell_type": "code",
   "execution_count": 75,
   "id": "df685aea",
   "metadata": {},
   "outputs": [
    {
     "name": "stdout",
     "output_type": "stream",
     "text": [
      "4\n",
      "8\n",
      "True\n",
      "9\n",
      "12\n",
      "True\n"
     ]
    }
   ],
   "source": [
    "class Rectangle(Point):\n",
    "    def __init__(self, p1, p2):\n",
    "        self.p1 = p1\n",
    "        self.p2 = p2\n",
    "        \n",
    "    def get_area(self):\n",
    "        \n",
    "        return abs(self.p1.x - self.p2.x) * abs(self.p1.y - self.p2.y)\n",
    "    \n",
    "    def get_perimeter(self):\n",
    "        return 2 * (abs(self.p1.x - self.p2.x) + abs(self.p1.y - self.p2.y))\n",
    "    \n",
    "    def is_square(self):\n",
    "        if abs(self.p1.x - self.p2.x) == abs(self.p1.y - self.p2.y):\n",
    "            return True\n",
    "        else:\n",
    "            return False\n",
    "\n",
    "p1 = Point(1, 3)\n",
    "p2 = Point(3, 1)\n",
    "r1 = Rectangle(p1, p2)\n",
    "print(r1.get_area())\n",
    "print(r1.get_perimeter())\n",
    "print(r1.is_square())\n",
    "p3 = Point(3,7)\n",
    "p4 = Point(6,4)\n",
    "r2 = Rectangle(p3,p4)\n",
    "print(r2.get_area())\n",
    "print(r2.get_perimeter())\n",
    "print(r2.is_square())"
   ]
  },
  {
   "cell_type": "code",
   "execution_count": null,
   "id": "68272586",
   "metadata": {},
   "outputs": [],
   "source": []
  }
 ],
 "metadata": {
  "kernelspec": {
   "display_name": "Python 3 (ipykernel)",
   "language": "python",
   "name": "python3"
  },
  "language_info": {
   "codemirror_mode": {
    "name": "ipython",
    "version": 3
   },
   "file_extension": ".py",
   "mimetype": "text/x-python",
   "name": "python",
   "nbconvert_exporter": "python",
   "pygments_lexer": "ipython3",
   "version": "3.9.9"
  }
 },
 "nbformat": 4,
 "nbformat_minor": 5
}
