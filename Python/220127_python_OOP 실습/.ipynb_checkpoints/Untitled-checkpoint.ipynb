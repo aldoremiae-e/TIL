{
 "cells": [
  {
   "cell_type": "code",
   "execution_count": 6,
   "id": "e34a1239",
   "metadata": {},
   "outputs": [
    {
     "data": {
      "text/plain": [
       "True"
      ]
     },
     "execution_count": 6,
     "metadata": {},
     "output_type": "execute_result"
    }
   ],
   "source": [
    "issubclass(bool, int)"
   ]
  },
  {
   "cell_type": "code",
   "execution_count": 7,
   "id": "fbed6ccc",
   "metadata": {},
   "outputs": [
    {
     "name": "stdout",
     "output_type": "stream",
     "text": [
      "['김현기']\n"
     ]
    }
   ],
   "source": [
    "a = {'name':'김미애', 'age':26}\n",
    "b = []\n",
    "b.append('김현기')\n",
    "print(b)b"
   ]
  },
  {
   "cell_type": "code",
   "execution_count": 2,
   "id": "de83ab13",
   "metadata": {},
   "outputs": [
    {
     "data": {
      "text/plain": [
       "'Micheal Kelly'"
      ]
     },
     "execution_count": 2,
     "metadata": {},
     "output_type": "execute_result"
    }
   ],
   "source": [
    "from faker import Faker\n",
    "fake = Faker()\n",
    "fake.name()"
   ]
  },
  {
   "cell_type": "code",
   "execution_count": 11,
   "id": "2cd91483",
   "metadata": {},
   "outputs": [
    {
     "data": {
      "text/plain": [
       "'김도윤'"
      ]
     },
     "execution_count": 11,
     "metadata": {},
     "output_type": "execute_result"
    }
   ],
   "source": [
    "fake_ko = Faker('ko_KR')\n",
    "fake_ko.name()"
   ]
  },
  {
   "cell_type": "code",
   "execution_count": null,
   "id": "46ce927d",
   "metadata": {},
   "outputs": [],
   "source": [
    "class Faker():\n",
    "    def __init__(self):\n",
    "        \n",
    "        "
   ]
  }
 ],
 "metadata": {
  "kernelspec": {
   "display_name": "Python 3 (ipykernel)",
   "language": "python",
   "name": "python3"
  },
  "language_info": {
   "codemirror_mode": {
    "name": "ipython",
    "version": 3
   },
   "file_extension": ".py",
   "mimetype": "text/x-python",
   "name": "python",
   "nbconvert_exporter": "python",
   "pygments_lexer": "ipython3",
   "version": "3.9.9"
  }
 },
 "nbformat": 4,
 "nbformat_minor": 5
}
